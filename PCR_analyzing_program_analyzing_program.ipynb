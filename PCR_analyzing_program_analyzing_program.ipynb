{
  "nbformat": 4,
  "nbformat_minor": 0,
  "metadata": {
    "colab": {
      "provenance": [],
      "authorship_tag": "ABX9TyMMt2SGWIbzBL4UW9IL7gVG",
      "include_colab_link": true
    },
    "kernelspec": {
      "name": "python3",
      "display_name": "Python 3"
    },
    "language_info": {
      "name": "python"
    }
  },
  "cells": [
    {
      "cell_type": "markdown",
      "metadata": {
        "id": "view-in-github",
        "colab_type": "text"
      },
      "source": [
        "<a href=\"https://colab.research.google.com/github/RedAppleXYZ/PCR--analyzing-program/blob/main/PCR_analyzing_program_analyzing_program.ipynb\" target=\"_parent\"><img src=\"https://colab.research.google.com/assets/colab-badge.svg\" alt=\"Open In Colab\"/></a>"
      ]
    },
    {
      "cell_type": "code",
      "execution_count": null,
      "metadata": {
        "id": "CUjtp-VWJ_Us",
        "colab": {
          "base_uri": "https://localhost:8080/"
        },
        "outputId": "f1140174-afbe-4de9-b902-2f5dc700460d"
      },
      "outputs": [
        {
          "output_type": "stream",
          "name": "stdout",
          "text": [
            "PCR\n"
          ]
        }
      ],
      "source": [
        "print(\"PCR\")"
      ]
    }
  ]
}