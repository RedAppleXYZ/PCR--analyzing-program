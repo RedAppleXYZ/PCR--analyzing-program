{
  "nbformat": 4,
  "nbformat_minor": 0,
  "metadata": {
    "colab": {
      "provenance": [],
      "include_colab_link": true
    },
    "kernelspec": {
      "name": "python3",
      "display_name": "Python 3"
    },
    "language_info": {
      "name": "python"
    }
  },
  "cells": [
    {
      "cell_type": "markdown",
      "metadata": {
        "id": "view-in-github",
        "colab_type": "text"
      },
      "source": [
        "<a href=\"https://colab.research.google.com/github/RedAppleXYZ/PCR--analyzing-program/blob/main/Untitled.ipynb\" target=\"_parent\"><img src=\"https://colab.research.google.com/assets/colab-badge.svg\" alt=\"Open In Colab\"/></a>"
      ]
    },
    {
      "cell_type": "code",
      "source": [
        "from scipy.stats import shapiro"
      ],
      "metadata": {
        "id": "cQ3DjqL2D4t_"
      },
      "execution_count": 54,
      "outputs": []
    },
    {
      "cell_type": "markdown",
      "source": [
        "# 0) Вводим какие-то данные"
      ],
      "metadata": {
        "id": "s9FO629P6TlM"
      }
    },
    {
      "cell_type": "code",
      "source": [
        "def stringToList(string):\n",
        "    listRes = list(string.split(\" \"))\n",
        "    return listRes"
      ],
      "metadata": {
        "id": "CeG6tr-B6Snh"
      },
      "execution_count": 4,
      "outputs": []
    },
    {
      "cell_type": "code",
      "source": [
        "ListIntetCont = input(\"Группа гена интереса в группе контроля:\")\n",
        "ListIntetCont = stringToList(ListIntetCont)\n",
        "ListIntetCont = [float(item) for item in ListIntetCont]\n",
        "ListRefCont = input(\"Группа референсного гена в группе контроля:\")\n",
        "ListRefCont = stringToList(ListRefCont)\n",
        "ListRefCont = [float(item) for item in ListRefCont]\n",
        "ListIntetExper = input(\"Группа гена интереса в группе эксперимента:\")\n",
        "ListIntetExper = stringToList(ListIntetExper)\n",
        "ListIntetExper = [float(item) for item in ListIntetExper]\n",
        "ListRefExper = input(\"Группа референсного гена в группе эксперимента:\")\n",
        "ListRefExper = stringToList(ListRefExper)\n",
        "ListRefExper = [float(item) for item in ListRefExper]"
      ],
      "metadata": {
        "colab": {
          "base_uri": "https://localhost:8080/"
        },
        "id": "avii9KpHCoRC",
        "outputId": "f1c41338-aa26-4ffc-ecb7-7e99e420b154"
      },
      "execution_count": 5,
      "outputs": [
        {
          "name": "stdout",
          "output_type": "stream",
          "text": [
            "Группа гена интереса в группе контроля:33.78 30.99 35.13\n",
            "Группа референсного гена в группе контроля:23.99 21.53 28.45\n",
            "Группа гена интереса в группе эксперимента:30.74 35.52\n",
            "Группа референсного гена в группе эксперимента:26.53 26.53\n"
          ]
        }
      ]
    },
    {
      "cell_type": "markdown",
      "source": [
        "#1) мы рассчитываем 1. среднее значение в группе гена интереса в группе контроля"
      ],
      "metadata": {
        "id": "vEsdEcZdOGDP"
      }
    },
    {
      "cell_type": "code",
      "source": [
        "АverageIntetCont = sum(ListIntetCont) / len(ListIntetCont)\n",
        "АverageIntetCont"
      ],
      "metadata": {
        "colab": {
          "base_uri": "https://localhost:8080/"
        },
        "id": "O8WLQFwfOFqH",
        "outputId": "b4396f83-1cab-4801-997f-e274e81698f2"
      },
      "execution_count": 6,
      "outputs": [
        {
          "output_type": "execute_result",
          "data": {
            "text/plain": [
              "33.300000000000004"
            ]
          },
          "metadata": {},
          "execution_count": 6
        }
      ]
    },
    {
      "cell_type": "markdown",
      "source": [
        "# 2.  среднее значение в группе референсного гена в группе контроля"
      ],
      "metadata": {
        "id": "7BZuxHKxU-VI"
      }
    },
    {
      "cell_type": "code",
      "source": [
        "AverageRefCont = sum(ListRefCont) / len(ListRefCont)\n",
        "AverageRefCont"
      ],
      "metadata": {
        "colab": {
          "base_uri": "https://localhost:8080/"
        },
        "id": "CsvfVwJ1QJz6",
        "outputId": "d60a4d4f-2216-4de7-ff03-9cd811ce3825"
      },
      "execution_count": 7,
      "outputs": [
        {
          "output_type": "execute_result",
          "data": {
            "text/plain": [
              "24.656666666666666"
            ]
          },
          "metadata": {},
          "execution_count": 7
        }
      ]
    },
    {
      "cell_type": "markdown",
      "source": [
        "# 3. вычитаем из среднего по гену интереса среднее рефа и получаем переменную"
      ],
      "metadata": {
        "id": "Bw0089isYQKg"
      }
    },
    {
      "cell_type": "code",
      "source": [
        "Var = АverageIntetCont - AverageRefCont\n",
        "Var"
      ],
      "metadata": {
        "colab": {
          "base_uri": "https://localhost:8080/"
        },
        "id": "NKo8pERmSeCg",
        "outputId": "413e2493-0f59-467a-c1ce-d6f2b94dce34"
      },
      "execution_count": 8,
      "outputs": [
        {
          "output_type": "execute_result",
          "data": {
            "text/plain": [
              "8.643333333333338"
            ]
          },
          "metadata": {},
          "execution_count": 8
        }
      ]
    },
    {
      "cell_type": "markdown",
      "source": [
        "\n",
        "\n",
        "#4. Создание новых списков с рассчетов разности ген интереса - ген реф - переменна из пеункта 3\n"
      ],
      "metadata": {
        "id": "9c-av60hZCMb"
      }
    },
    {
      "cell_type": "code",
      "source": [
        "l = len(ListIntetCont)\n",
        "ind = 0\n",
        "ddCtCont =[]\n",
        "while l > 0:\n",
        "  x = ListIntetCont[ind] - ListRefCont[ind] - Var\n",
        "  l = l-1\n",
        "  ind = ind+1\n",
        "  ddCtCont.append(x)\n",
        "ddCtCont"
      ],
      "metadata": {
        "colab": {
          "base_uri": "https://localhost:8080/"
        },
        "id": "ZnBXTSsBZJa1",
        "outputId": "dcecbcaa-7466-45df-8da2-f84a6824b808"
      },
      "execution_count": 9,
      "outputs": [
        {
          "output_type": "execute_result",
          "data": {
            "text/plain": [
              "[1.1466666666666647, 0.8166666666666593, -1.9633333333333347]"
            ]
          },
          "metadata": {},
          "execution_count": 9
        }
      ]
    },
    {
      "cell_type": "markdown",
      "source": [
        "# #5. анализируем группу эксперимента. Создание новых списков с рассчетов разности  ген интереса - ген реф - переменна из пеункта 3\n"
      ],
      "metadata": {
        "id": "n5ZY_nSDfGC6"
      }
    },
    {
      "cell_type": "code",
      "source": [
        "l = len(ListIntetExper)\n",
        "ind = 0\n",
        "ddCtEx =[]\n",
        "while l > 0:\n",
        "  x = ListIntetExper[ind] - ListRefExper[ind] - Var\n",
        "  l = l-1\n",
        "  ind = ind+1\n",
        "  ddCtEx.append(x)\n",
        "ddCtEx"
      ],
      "metadata": {
        "colab": {
          "base_uri": "https://localhost:8080/"
        },
        "id": "6WbBsi5WfWc2",
        "outputId": "36b5bf2c-9a0a-417a-d40b-e166a31e8a1c"
      },
      "execution_count": 10,
      "outputs": [
        {
          "output_type": "execute_result",
          "data": {
            "text/plain": [
              "[-4.433333333333341, 0.346666666666664]"
            ]
          },
          "metadata": {},
          "execution_count": 10
        }
      ]
    },
    {
      "cell_type": "markdown",
      "source": [
        "#6. Найти среднее значении список а группы контроля(с разностью) и делаем проверку на пидора(если значение не =0, то программа работают не правильно)"
      ],
      "metadata": {
        "id": "3-sXYfklgzXE"
      }
    },
    {
      "cell_type": "code",
      "source": [
        "AverageddCtCont = sum(ddCtCont)\n",
        "AverageddCtCont = round(AverageddCtCont, 3)\n",
        "if AverageddCtCont != 0:\n",
        "  print (\"Ошибка, Вы не прошли проверку на пидора\")\n",
        "else:\n",
        "  print (\"Проверка на пидора пройдена\")"
      ],
      "metadata": {
        "colab": {
          "base_uri": "https://localhost:8080/"
        },
        "id": "rcxqNgbQhcqZ",
        "outputId": "948f27d6-8ef3-46e1-caaa-6875bbff6e3d"
      },
      "execution_count": 51,
      "outputs": [
        {
          "output_type": "stream",
          "name": "stdout",
          "text": [
            "Проверка на пидора пройдена\n"
          ]
        }
      ]
    },
    {
      "cell_type": "code",
      "source": [
        "AverageddCtCont"
      ],
      "metadata": {
        "colab": {
          "base_uri": "https://localhost:8080/"
        },
        "id": "6rxbG_fYB-2N",
        "outputId": "08b68dea-9e99-48d3-81d6-fbba6a313eca"
      },
      "execution_count": 52,
      "outputs": [
        {
          "output_type": "execute_result",
          "data": {
            "text/plain": [
              "0.0"
            ]
          },
          "metadata": {},
          "execution_count": 52
        }
      ]
    },
    {
      "cell_type": "markdown",
      "source": [
        "# #7.найти среднее по группе эксперимента, сохраняем как перемененную. Находим 2^(-переменная)"
      ],
      "metadata": {
        "id": "PM4YHuT0kP-w"
      }
    },
    {
      "cell_type": "code",
      "source": [
        "AverageddCtEx = sum(ddCtEx) / len(ddCtEx)\n",
        "FoldChg = 2**(-AverageddCtEx)\n",
        "FoldChg"
      ],
      "metadata": {
        "colab": {
          "base_uri": "https://localhost:8080/"
        },
        "id": "g5E9pWYchwEE",
        "outputId": "89ded6f5-0cd0-43e0-c8c9-f4fe41f630dc"
      },
      "execution_count": 53,
      "outputs": [
        {
          "output_type": "execute_result",
          "data": {
            "text/plain": [
              "4.121968081317204"
            ]
          },
          "metadata": {},
          "execution_count": 53
        }
      ]
    },
    {
      "cell_type": "markdown",
      "source": [
        "# #8. анализ нормальности, сыбор статистического тесьа руппы различаются с p = (какое то значение). Fold change - (какой-то). Применены теста (какие тл)"
      ],
      "metadata": {
        "id": "QQUF-eHnmdzL"
      }
    },
    {
      "cell_type": "code",
      "source": [
        "if len(ddCtEx)<=8 or len(ddCtCont)<=8:\n",
        "  print(\"выборки слишком малы, считаем, что распределение не нормальное\")\n",
        "else:\n",
        "  print(\"Проверяем выборки на номальность\")"
      ],
      "metadata": {
        "colab": {
          "base_uri": "https://localhost:8080/"
        },
        "id": "Rg8MU2DKCkrz",
        "outputId": "5d588a57-fdbd-4a2b-a337-39b86233ada4"
      },
      "execution_count": 61,
      "outputs": [
        {
          "output_type": "stream",
          "name": "stdout",
          "text": [
            "выборки слишком малы, считаем, что распределение не нормальное\n"
          ]
        }
      ]
    }
  ]
}