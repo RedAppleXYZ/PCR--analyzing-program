{
  "nbformat": 4,
  "nbformat_minor": 0,
  "metadata": {
    "colab": {
      "provenance": [],
      "authorship_tag": "ABX9TyMZ9QVnwl54mDtwWgk3bB+w",
      "include_colab_link": true
    },
    "kernelspec": {
      "name": "python3",
      "display_name": "Python 3"
    },
    "language_info": {
      "name": "python"
    }
  },
  "cells": [
    {
      "cell_type": "markdown",
      "metadata": {
        "id": "view-in-github",
        "colab_type": "text"
      },
      "source": [
        "<a href=\"https://colab.research.google.com/github/RedAppleXYZ/PCR--analyzing-program/blob/main/pcr_analyzing_program_analyzing_program.ipynb\" target=\"_parent\"><img src=\"https://colab.research.google.com/assets/colab-badge.svg\" alt=\"Open In Colab\"/></a>"
      ]
    },
    {
      "cell_type": "code",
      "execution_count": 1,
      "metadata": {
        "id": "CUjtp-VWJ_Us",
        "colab": {
          "base_uri": "https://localhost:8080/"
        },
        "outputId": "1904de9b-7f1d-461e-837b-aad8954e528f"
      },
      "outputs": [
        {
          "output_type": "stream",
          "name": "stdout",
          "text": [
            "PCR\n"
          ]
        }
      ],
      "source": [
        "print(\"PCR\")"
      ]
    },
    {
      "cell_type": "code",
      "source": [
        "1+1"
      ],
      "metadata": {
        "colab": {
          "base_uri": "https://localhost:8080/"
        },
        "id": "eRMokLMu6tSt",
        "outputId": "69bc9a09-f062-41c3-943d-5cc1fa7d4bda"
      },
      "execution_count": 2,
      "outputs": [
        {
          "output_type": "execute_result",
          "data": {
            "text/plain": [
              "2"
            ]
          },
          "metadata": {},
          "execution_count": 2
        }
      ]
    },
    {
      "cell_type": "code",
      "source": [
        "print(\"Start\")"
      ],
      "metadata": {
        "id": "HIgEIYy46u5i",
        "colab": {
          "base_uri": "https://localhost:8080/"
        },
        "outputId": "096ec8ef-7511-449e-bcdc-c070e9ced999"
      },
      "execution_count": 3,
      "outputs": [
        {
          "output_type": "stream",
          "name": "stdout",
          "text": [
            "Start\n"
          ]
        }
      ]
    },
    {
      "cell_type": "code",
      "source": [],
      "metadata": {
        "id": "244T-soN7J46"
      },
      "execution_count": null,
      "outputs": []
    }
  ]
}