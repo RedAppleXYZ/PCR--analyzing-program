{
  "nbformat": 4,
  "nbformat_minor": 0,
  "metadata": {
    "colab": {
      "provenance": [],
      "include_colab_link": true
    },
    "kernelspec": {
      "name": "python3",
      "display_name": "Python 3"
    },
    "language_info": {
      "name": "python"
    }
  },
  "cells": [
    {
      "cell_type": "markdown",
      "metadata": {
        "id": "view-in-github",
        "colab_type": "text"
      },
      "source": [
        "<a href=\"https://colab.research.google.com/github/RedAppleXYZ/PCR--analyzing-program/blob/main/Untitled.ipynb\" target=\"_parent\"><img src=\"https://colab.research.google.com/assets/colab-badge.svg\" alt=\"Open In Colab\"/></a>"
      ]
    },
    {
      "cell_type": "code",
      "source": [
        "from scipy.stats import shapiro\n",
        "from scipy import stats\n",
        "import numpy as np\n",
        "import pandas as pd"
      ],
      "metadata": {
        "id": "cQ3DjqL2D4t_"
      },
      "execution_count": 173,
      "outputs": []
    },
    {
      "cell_type": "markdown",
      "source": [
        "# 0) Вводим какие-то данные"
      ],
      "metadata": {
        "id": "s9FO629P6TlM"
      }
    },
    {
      "cell_type": "code",
      "source": [
        "def stringToList(string):\n",
        "    listRes = list(string.split(\" \"))\n",
        "    return listRes"
      ],
      "metadata": {
        "id": "CeG6tr-B6Snh"
      },
      "execution_count": 146,
      "outputs": []
    },
    {
      "cell_type": "code",
      "source": [
        "ListIntetCont = input(\"Группа гена интереса в группе контроля:\")\n",
        "ListIntetCont = stringToList(ListIntetCont)\n",
        "ListIntetCont = [float(item) for item in ListIntetCont]\n",
        "ListRefCont = input(\"Группа референсного гена в группе контроля:\")\n",
        "ListRefCont = stringToList(ListRefCont)\n",
        "ListRefCont = [float(item) for item in ListRefCont]\n",
        "ListIntetExper = input(\"Группа гена интереса в группе эксперимента:\")\n",
        "ListIntetExper = stringToList(ListIntetExper)\n",
        "ListIntetExper = [float(item) for item in ListIntetExper]\n",
        "ListRefExper = input(\"Группа референсного гена в группе эксперимента:\")\n",
        "ListRefExper = stringToList(ListRefExper)\n",
        "ListRefExper = [float(item) for item in ListRefExper]"
      ],
      "metadata": {
        "colab": {
          "base_uri": "https://localhost:8080/"
        },
        "id": "avii9KpHCoRC",
        "outputId": "ae8886b8-5690-42d1-bccb-a109febaa89a"
      },
      "execution_count": 148,
      "outputs": [
        {
          "name": "stdout",
          "output_type": "stream",
          "text": [
            "Группа гена интереса в группе контроля:33.78 30.99 35.13\n",
            "Группа референсного гена в группе контроля:23.99 21.53 28.45\n",
            "Группа гена интереса в группе эксперимента:30.74 35.52\n",
            "Группа референсного гена в группе эксперимента:26.53 24.28\n"
          ]
        }
      ]
    },
    {
      "cell_type": "markdown",
      "source": [
        "#1) мы рассчитываем 1. среднее значение в группе гена интереса в группе контроля"
      ],
      "metadata": {
        "id": "vEsdEcZdOGDP"
      }
    },
    {
      "cell_type": "code",
      "source": [
        "АverageIntetCont = sum(ListIntetCont) / len(ListIntetCont)\n",
        "АverageIntetCont"
      ],
      "metadata": {
        "colab": {
          "base_uri": "https://localhost:8080/"
        },
        "id": "O8WLQFwfOFqH",
        "outputId": "a133e033-0c2c-4791-cbe5-9d635769537c"
      },
      "execution_count": 149,
      "outputs": [
        {
          "output_type": "execute_result",
          "data": {
            "text/plain": [
              "33.300000000000004"
            ]
          },
          "metadata": {},
          "execution_count": 149
        }
      ]
    },
    {
      "cell_type": "markdown",
      "source": [
        "# 2.  среднее значение в группе референсного гена в группе контроля"
      ],
      "metadata": {
        "id": "7BZuxHKxU-VI"
      }
    },
    {
      "cell_type": "code",
      "source": [
        "AverageRefCont = sum(ListRefCont) / len(ListRefCont)\n",
        "AverageRefCont"
      ],
      "metadata": {
        "colab": {
          "base_uri": "https://localhost:8080/"
        },
        "id": "CsvfVwJ1QJz6",
        "outputId": "fd84d45f-69c5-4201-8390-2318bdb7eb36"
      },
      "execution_count": 150,
      "outputs": [
        {
          "output_type": "execute_result",
          "data": {
            "text/plain": [
              "24.656666666666666"
            ]
          },
          "metadata": {},
          "execution_count": 150
        }
      ]
    },
    {
      "cell_type": "markdown",
      "source": [
        "# 3. вычитаем из среднего по гену интереса среднее рефа и получаем переменную"
      ],
      "metadata": {
        "id": "Bw0089isYQKg"
      }
    },
    {
      "cell_type": "code",
      "source": [
        "Var = АverageIntetCont - AverageRefCont\n",
        "Var"
      ],
      "metadata": {
        "colab": {
          "base_uri": "https://localhost:8080/"
        },
        "id": "NKo8pERmSeCg",
        "outputId": "dacae1cf-daae-4dd5-a015-64f13cce9891"
      },
      "execution_count": 151,
      "outputs": [
        {
          "output_type": "execute_result",
          "data": {
            "text/plain": [
              "8.643333333333338"
            ]
          },
          "metadata": {},
          "execution_count": 151
        }
      ]
    },
    {
      "cell_type": "markdown",
      "source": [
        "\n",
        "\n",
        "#4. Создание новых списков с рассчетов разности ген интереса - ген реф - переменна из пеункта 3\n"
      ],
      "metadata": {
        "id": "9c-av60hZCMb"
      }
    },
    {
      "cell_type": "code",
      "source": [
        "l = len(ListIntetCont)\n",
        "ind = 0\n",
        "ddCtCont =[]\n",
        "while l > 0:\n",
        "  x = ListIntetCont[ind] - ListRefCont[ind] - Var\n",
        "  l = l-1\n",
        "  ind = ind+1\n",
        "  ddCtCont.append(x)\n",
        "ddCtCont"
      ],
      "metadata": {
        "colab": {
          "base_uri": "https://localhost:8080/"
        },
        "id": "ZnBXTSsBZJa1",
        "outputId": "eaebd72c-c28b-4f03-aaa1-43068863fa66"
      },
      "execution_count": 152,
      "outputs": [
        {
          "output_type": "execute_result",
          "data": {
            "text/plain": [
              "[1.1466666666666647, 0.8166666666666593, -1.9633333333333347]"
            ]
          },
          "metadata": {},
          "execution_count": 152
        }
      ]
    },
    {
      "cell_type": "markdown",
      "source": [
        "# #5. анализируем группу эксперимента. Создание новых списков с рассчетов разности  ген интереса - ген реф - переменна из пеункта 3\n"
      ],
      "metadata": {
        "id": "n5ZY_nSDfGC6"
      }
    },
    {
      "cell_type": "code",
      "source": [
        "l = len(ListIntetExper)\n",
        "ind = 0\n",
        "ddCtEx =[]\n",
        "while l > 0:\n",
        "  x = ListIntetExper[ind] - ListRefExper[ind] - Var\n",
        "  l = l-1\n",
        "  ind = ind+1\n",
        "  ddCtEx.append(x)\n",
        "ddCtEx"
      ],
      "metadata": {
        "colab": {
          "base_uri": "https://localhost:8080/"
        },
        "id": "6WbBsi5WfWc2",
        "outputId": "7982dfa0-a88a-4382-9608-23fa006d3da0"
      },
      "execution_count": 153,
      "outputs": [
        {
          "output_type": "execute_result",
          "data": {
            "text/plain": [
              "[-4.433333333333341, 2.596666666666664]"
            ]
          },
          "metadata": {},
          "execution_count": 153
        }
      ]
    },
    {
      "cell_type": "markdown",
      "source": [
        "#6. Найти среднее значении список а группы контроля(с разностью) и делаем проверку на пидора(если значение не =0, то программа работают не правильно)"
      ],
      "metadata": {
        "id": "3-sXYfklgzXE"
      }
    },
    {
      "cell_type": "code",
      "source": [
        "AverageddCtCont = sum(ddCtCont)\n",
        "AverageddCtCont = round(AverageddCtCont, 3)\n",
        "if AverageddCtCont != 0:\n",
        "  print (\"Ошибка, Вы не прошли проверку на пидора\")\n",
        "else:\n",
        "  print (\"Проверка на пидора пройдена\")"
      ],
      "metadata": {
        "colab": {
          "base_uri": "https://localhost:8080/"
        },
        "id": "rcxqNgbQhcqZ",
        "outputId": "1465d999-20f2-4797-896c-ce96c56cf80e"
      },
      "execution_count": 156,
      "outputs": [
        {
          "output_type": "stream",
          "name": "stdout",
          "text": [
            "Проверка на пидора пройдена\n"
          ]
        }
      ]
    },
    {
      "cell_type": "code",
      "source": [
        "AverageddCtCont"
      ],
      "metadata": {
        "colab": {
          "base_uri": "https://localhost:8080/"
        },
        "id": "6rxbG_fYB-2N",
        "outputId": "46279d8c-359a-4eb9-f424-78248ae8924d"
      },
      "execution_count": 155,
      "outputs": [
        {
          "output_type": "execute_result",
          "data": {
            "text/plain": [
              "-0.0"
            ]
          },
          "metadata": {},
          "execution_count": 155
        }
      ]
    },
    {
      "cell_type": "markdown",
      "source": [
        "# #7.найти среднее по группе эксперимента, сохраняем как перемененную. Находим 2^(-переменная)"
      ],
      "metadata": {
        "id": "PM4YHuT0kP-w"
      }
    },
    {
      "cell_type": "code",
      "source": [
        "AverageddCtEx = sum(ddCtEx) / len(ddCtEx)\n",
        "FoldChg = 2**(-AverageddCtEx)\n",
        "print(AverageddCtEx)\n",
        "print(FoldChg)"
      ],
      "metadata": {
        "colab": {
          "base_uri": "https://localhost:8080/"
        },
        "id": "g5E9pWYchwEE",
        "outputId": "a3c61a2f-476a-4538-b89d-c112f1e7f132"
      },
      "execution_count": 158,
      "outputs": [
        {
          "output_type": "stream",
          "name": "stdout",
          "text": [
            "-0.9183333333333383\n",
            "1.889930698264239\n"
          ]
        }
      ]
    },
    {
      "cell_type": "markdown",
      "source": [
        "# #8. анализ нормальности, сыбор статистического тесьа руппы различаются с p = (какое то значение). Fold change - (какой-то). Применены теста (какие тл)"
      ],
      "metadata": {
        "id": "QQUF-eHnmdzL"
      }
    },
    {
      "cell_type": "code",
      "source": [
        "test = 0\n",
        "if len(ddCtEx)<=8 or len(ddCtCont)<=8:\n",
        "  print(\"выборки слишком малы, считаем, что распределение не нормальное\")\n",
        "  Nor = stats. mannwhitneyu (ddCtCont, ddCtEx, alternative='two-sided')\n",
        "  testName = (\"Манна-Уитни\")\n",
        "if (len(ddCtEx)>8 and len(ddCtCont)>8) and (shapiro(ddCtEx).pvalue<0.05 or shapiro(ddCtCont).pvalue<0.05):\n",
        "  print(\"Одна из выборок не нормальная\")\n",
        "  Nor = stats. mannwhitneyu (ddCtCont, ddCtEx, alternative='two-sided')\n",
        "  testName = (\"Манна-Уитни\")\n",
        "if (len(ddCtEx)>8 and len(ddCtCont)>8) and (shapiro(ddCtEx).pvalue>=0.05 or shapiro(ddCtCont).pvalue>=0.05):\n",
        "  print(\"Выборка нормальная\")\n",
        "  Nor = stats.ttest_ind(a=ddCtCont, b=ddCtEx, equal_var=True)\n",
        "  testName = (\"T-test\")\n",
        "test = Nor.pvalue"
      ],
      "metadata": {
        "colab": {
          "base_uri": "https://localhost:8080/"
        },
        "id": "Rg8MU2DKCkrz",
        "outputId": "1856348f-e024-4d1a-819f-f8fe08c5333d"
      },
      "execution_count": 171,
      "outputs": [
        {
          "output_type": "stream",
          "name": "stdout",
          "text": [
            "выборки слишком малы, считаем, что распределение не нормальное\n"
          ]
        }
      ]
    },
    {
      "cell_type": "code",
      "source": [
        "SDCont = np.std(ddCtCont, ddof= 1)\n",
        "SDEx = np.std(ddCtEx, ddof= 1)\n",
        "SeriesddCtCont = pd.Series(ddCtCont)\n",
        "SeriesddCtEx = pd.Series(ddCtEx)\n",
        "print(\"SD\", SDCont, SDEx)\n",
        "print(\"SEM\", SeriesddCtCont.sem(),SeriesddCtEx.sem())\n",
        "print(testName,\"p =\",test)"
      ],
      "metadata": {
        "colab": {
          "base_uri": "https://localhost:8080/"
        },
        "id": "pJ5bdPNiZf2v",
        "outputId": "35ed96c1-2350-4a8f-8adc-a8fcf738e82a"
      },
      "execution_count": 172,
      "outputs": [
        {
          "output_type": "stream",
          "name": "stdout",
          "text": [
            "SD 1.7082837391175179 4.970960671741432\n",
            "SEM 0.9862780766317594 3.515000000000002\n",
            "Манна-Уитни p = 1.0\n"
          ]
        }
      ]
    }
  ]
}